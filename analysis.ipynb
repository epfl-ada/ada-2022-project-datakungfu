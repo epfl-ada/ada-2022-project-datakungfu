{
 "cells": [
  {
   "cell_type": "code",
   "execution_count": 17,
   "metadata": {},
   "outputs": [],
   "source": [
    "import pandas as pd\n",
    "import json\n",
    "\n",
    "data_path = \"./MovieSummaries/\""
   ]
  },
  {
   "cell_type": "markdown",
   "metadata": {},
   "source": [
    "## Movie metadata"
   ]
  },
  {
   "cell_type": "code",
   "execution_count": 68,
   "metadata": {},
   "outputs": [
    {
     "name": "stdout",
     "output_type": "stream",
     "text": [
      "(81741, 9)\n"
     ]
    },
    {
     "data": {
      "text/html": [
       "<div>\n",
       "<style scoped>\n",
       "    .dataframe tbody tr th:only-of-type {\n",
       "        vertical-align: middle;\n",
       "    }\n",
       "\n",
       "    .dataframe tbody tr th {\n",
       "        vertical-align: top;\n",
       "    }\n",
       "\n",
       "    .dataframe thead th {\n",
       "        text-align: right;\n",
       "    }\n",
       "</style>\n",
       "<table border=\"1\" class=\"dataframe\">\n",
       "  <thead>\n",
       "    <tr style=\"text-align: right;\">\n",
       "      <th></th>\n",
       "      <th>Wikipedia movie ID</th>\n",
       "      <th>Freebase movie ID</th>\n",
       "      <th>Name</th>\n",
       "      <th>Release date</th>\n",
       "      <th>Revenue</th>\n",
       "      <th>Runtime</th>\n",
       "      <th>Languages</th>\n",
       "      <th>Countries</th>\n",
       "      <th>Genres</th>\n",
       "    </tr>\n",
       "  </thead>\n",
       "  <tbody>\n",
       "    <tr>\n",
       "      <th>0</th>\n",
       "      <td>975900</td>\n",
       "      <td>/m/03vyhn</td>\n",
       "      <td>Ghosts of Mars</td>\n",
       "      <td>2001-08-24</td>\n",
       "      <td>14010832.0</td>\n",
       "      <td>98.0</td>\n",
       "      <td>{\"/m/02h40lc\": \"English Language\"}</td>\n",
       "      <td>{\"/m/09c7w0\": \"United States of America\"}</td>\n",
       "      <td>{\"/m/01jfsb\": \"Thriller\", \"/m/06n90\": \"Science...</td>\n",
       "    </tr>\n",
       "    <tr>\n",
       "      <th>1</th>\n",
       "      <td>3196793</td>\n",
       "      <td>/m/08yl5d</td>\n",
       "      <td>Getting Away with Murder: The JonBenét Ramsey ...</td>\n",
       "      <td>2000-02-16</td>\n",
       "      <td>NaN</td>\n",
       "      <td>95.0</td>\n",
       "      <td>{\"/m/02h40lc\": \"English Language\"}</td>\n",
       "      <td>{\"/m/09c7w0\": \"United States of America\"}</td>\n",
       "      <td>{\"/m/02n4kr\": \"Mystery\", \"/m/03bxz7\": \"Biograp...</td>\n",
       "    </tr>\n",
       "    <tr>\n",
       "      <th>2</th>\n",
       "      <td>28463795</td>\n",
       "      <td>/m/0crgdbh</td>\n",
       "      <td>Brun bitter</td>\n",
       "      <td>1988</td>\n",
       "      <td>NaN</td>\n",
       "      <td>83.0</td>\n",
       "      <td>{\"/m/05f_3\": \"Norwegian Language\"}</td>\n",
       "      <td>{\"/m/05b4w\": \"Norway\"}</td>\n",
       "      <td>{\"/m/0lsxr\": \"Crime Fiction\", \"/m/07s9rl0\": \"D...</td>\n",
       "    </tr>\n",
       "    <tr>\n",
       "      <th>3</th>\n",
       "      <td>9363483</td>\n",
       "      <td>/m/0285_cd</td>\n",
       "      <td>White Of The Eye</td>\n",
       "      <td>1987</td>\n",
       "      <td>NaN</td>\n",
       "      <td>110.0</td>\n",
       "      <td>{\"/m/02h40lc\": \"English Language\"}</td>\n",
       "      <td>{\"/m/07ssc\": \"United Kingdom\"}</td>\n",
       "      <td>{\"/m/01jfsb\": \"Thriller\", \"/m/0glj9q\": \"Erotic...</td>\n",
       "    </tr>\n",
       "    <tr>\n",
       "      <th>4</th>\n",
       "      <td>261236</td>\n",
       "      <td>/m/01mrr1</td>\n",
       "      <td>A Woman in Flames</td>\n",
       "      <td>1983</td>\n",
       "      <td>NaN</td>\n",
       "      <td>106.0</td>\n",
       "      <td>{\"/m/04306rv\": \"German Language\"}</td>\n",
       "      <td>{\"/m/0345h\": \"Germany\"}</td>\n",
       "      <td>{\"/m/07s9rl0\": \"Drama\"}</td>\n",
       "    </tr>\n",
       "  </tbody>\n",
       "</table>\n",
       "</div>"
      ],
      "text/plain": [
       "   Wikipedia movie ID Freebase movie ID  \\\n",
       "0              975900         /m/03vyhn   \n",
       "1             3196793         /m/08yl5d   \n",
       "2            28463795        /m/0crgdbh   \n",
       "3             9363483        /m/0285_cd   \n",
       "4              261236         /m/01mrr1   \n",
       "\n",
       "                                                Name Release date     Revenue  \\\n",
       "0                                     Ghosts of Mars   2001-08-24  14010832.0   \n",
       "1  Getting Away with Murder: The JonBenét Ramsey ...   2000-02-16         NaN   \n",
       "2                                        Brun bitter         1988         NaN   \n",
       "3                                   White Of The Eye         1987         NaN   \n",
       "4                                  A Woman in Flames         1983         NaN   \n",
       "\n",
       "   Runtime                           Languages  \\\n",
       "0     98.0  {\"/m/02h40lc\": \"English Language\"}   \n",
       "1     95.0  {\"/m/02h40lc\": \"English Language\"}   \n",
       "2     83.0  {\"/m/05f_3\": \"Norwegian Language\"}   \n",
       "3    110.0  {\"/m/02h40lc\": \"English Language\"}   \n",
       "4    106.0   {\"/m/04306rv\": \"German Language\"}   \n",
       "\n",
       "                                   Countries  \\\n",
       "0  {\"/m/09c7w0\": \"United States of America\"}   \n",
       "1  {\"/m/09c7w0\": \"United States of America\"}   \n",
       "2                     {\"/m/05b4w\": \"Norway\"}   \n",
       "3             {\"/m/07ssc\": \"United Kingdom\"}   \n",
       "4                    {\"/m/0345h\": \"Germany\"}   \n",
       "\n",
       "                                              Genres  \n",
       "0  {\"/m/01jfsb\": \"Thriller\", \"/m/06n90\": \"Science...  \n",
       "1  {\"/m/02n4kr\": \"Mystery\", \"/m/03bxz7\": \"Biograp...  \n",
       "2  {\"/m/0lsxr\": \"Crime Fiction\", \"/m/07s9rl0\": \"D...  \n",
       "3  {\"/m/01jfsb\": \"Thriller\", \"/m/0glj9q\": \"Erotic...  \n",
       "4                            {\"/m/07s9rl0\": \"Drama\"}  "
      ]
     },
     "execution_count": 68,
     "metadata": {},
     "output_type": "execute_result"
    }
   ],
   "source": [
    "\n",
    "metadata_path = data_path + \"movie.metadata.tsv\"\n",
    "\n",
    "df_movie = pd.read_csv(metadata_path, sep=\"\\t\", header=None)\n",
    "df_movie.columns = ['Wikipedia movie ID', 'Freebase movie ID', 'Name', 'Release date', 'Revenue', 'Runtime', 'Languages', 'Countries', 'Genres']\n",
    "\n",
    "print(df_movie.shape)\n",
    "df_movie.head()"
   ]
  },
  {
   "cell_type": "markdown",
   "metadata": {},
   "source": [
    "### Number of movies per country"
   ]
  },
  {
   "cell_type": "code",
   "execution_count": 62,
   "metadata": {},
   "outputs": [
    {
     "name": "stdout",
     "output_type": "stream",
     "text": [
      "- Number of different countries: 147\n",
      "- Most productive: \n",
      "[('United States of America', 34408), ('India', 8411), ('United Kingdom', 7868), ('France', 4395), ('Italy', 3163), ('Japan', 2647), ('Canada', 2534), ('Germany', 2393), ('Argentina', 1468), ('Hong Kong', 1240), ('Spain', 1136), ('Australia', 1114), ('South Korea', 887), ('Mexico', 870), ('Netherlands', 840), ('Sweden', 657), ('West Germany', 647), ('China', 645), ('Denmark', 610), ('Soviet Union', 564), ('Philippines', 389), ('Poland', 382), ('Czechoslovakia', 376), ('Belgium', 360), ('New Zealand', 355), ('Norway', 345), ('Russia', 345), ('Hungary', 325), ('German Democratic Republic', 322), ('Yugoslavia', 306), ('Brazil', 298), ('Ireland', 287), ('Switzerland', 280), ('Austria', 267), ('Finland', 247), ('Czech Republic', 240), ('Israel', 235), ('Turkey', 215), ('England', 211), ('Iran', 209), ('Thailand', 208), ('South Africa', 200), ('Greece', 192), ('Pakistan', 189), ('Taiwan', 176), ('Portugal', 167), ('Croatia', 155), ('Egypt', 153), ('Romania', 139), ('Indonesia', 124)]\n"
     ]
    }
   ],
   "source": [
    "# Number of movies per country in the dataset\n",
    "\n",
    "from collections import defaultdict, Counter\n",
    "\n",
    "def read_metadata(metadata_path):\n",
    "    df = pd.read_csv(metadata_path, sep=\"\\t\", header=None)\n",
    "    results = Counter()\n",
    "    for i in range(len(df)):\n",
    "        for k,v in json.loads(df.loc[i, 7]).items():\n",
    "            results[v] += 1\n",
    "    return results\n",
    "\n",
    "results = read_metadata(metadata_path)\n",
    "print(\"- Number of different countries: {}\".format(len(results)))\n",
    "print(\"- Most productive: \")\n",
    "print(sorted(results.items(), reverse=True, key=lambda x:x[1])[:50])"
   ]
  },
  {
   "cell_type": "markdown",
   "metadata": {},
   "source": [
    "### Number of movies per genre"
   ]
  },
  {
   "cell_type": "code",
   "execution_count": 72,
   "metadata": {},
   "outputs": [
    {
     "name": "stdout",
     "output_type": "stream",
     "text": [
      "- Number of different genres: 363\n",
      "- Most popular (in term of number of movies): \n",
      "[('Drama', 34007), ('Comedy', 16349), ('Romance Film', 10234), ('Black-and-white', 9094), ('Action', 8798), ('Thriller', 8744), ('Short Film', 8141), ('World cinema', 7155), ('Crime Fiction', 6948), ('Indie', 6897), ('Documentary', 5630), ('Horror', 5280), ('Silent film', 5250), ('Adventure', 4963), ('Family Film', 4598), ('Action/Adventure', 4561), ('Comedy film', 4362), ('Musical', 4160), ('Animation', 3534), ('Romantic drama', 3372), ('Mystery', 3195), ('Science Fiction', 3052), ('Fantasy', 2820), ('Romantic comedy', 2680), ('War film', 2652), ('Japanese Movies', 2322), ('Western', 2226), ('Crime Thriller', 2122), ('Period piece', 1758), ('Comedy-drama', 1720), ('Film adaptation', 1531), ('Chinese Movies', 1525), ('Biography', 1392), ('Psychological thriller', 1331), ('Bollywood', 1321), ('Sports', 1206), ('Biographical film', 1198), ('LGBT', 1163), ('Music', 1088), ('Family Drama', 1043), ('Black comedy', 1025), ('Parody', 999), ('Television movie', 972), ('Martial Arts Film', 928), (\"Children's/Family\", 926), ('Teen', 925), ('Coming of age', 910), ('History', 888), ('Political drama', 799), ('Slasher', 768)]\n"
     ]
    }
   ],
   "source": [
    "# Number of movies per genre in the dataset\n",
    "\n",
    "from collections import defaultdict, Counter\n",
    "\n",
    "results = Counter()\n",
    "movie2genre = defaultdict(list)\n",
    "for i in range(len(df)):\n",
    "    for k,v in json.loads(df_movie.loc[i, \"Genres\"]).items():\n",
    "        results[v] += 1\n",
    "        movie2genre[df_movie.loc[i, \"Freebase movie ID\"]].append(v)\n",
    "\n",
    "print(\"- Number of different genres: {}\".format(len(results)))\n",
    "print(\"- Most popular (in term of number of movies): \")\n",
    "print(sorted(results.items(), reverse=True, key=lambda x:x[1])[:50])"
   ]
  },
  {
   "cell_type": "markdown",
   "metadata": {},
   "source": [
    "## Characters"
   ]
  },
  {
   "cell_type": "code",
   "execution_count": 37,
   "metadata": {},
   "outputs": [
    {
     "name": "stdout",
     "output_type": "stream",
     "text": [
      "(450669, 13)\n"
     ]
    },
    {
     "data": {
      "text/html": [
       "<div>\n",
       "<style scoped>\n",
       "    .dataframe tbody tr th:only-of-type {\n",
       "        vertical-align: middle;\n",
       "    }\n",
       "\n",
       "    .dataframe tbody tr th {\n",
       "        vertical-align: top;\n",
       "    }\n",
       "\n",
       "    .dataframe thead th {\n",
       "        text-align: right;\n",
       "    }\n",
       "</style>\n",
       "<table border=\"1\" class=\"dataframe\">\n",
       "  <thead>\n",
       "    <tr style=\"text-align: right;\">\n",
       "      <th></th>\n",
       "      <th>Wikipedia movie ID</th>\n",
       "      <th>Freebase movie ID</th>\n",
       "      <th>Movie release date</th>\n",
       "      <th>Character name</th>\n",
       "      <th>Actor date of birth</th>\n",
       "      <th>Actor gender</th>\n",
       "      <th>Actor height(in meters)</th>\n",
       "      <th>Actor ethnicity(Freebase ID)</th>\n",
       "      <th>Actor name</th>\n",
       "      <th>Actor age at movie release</th>\n",
       "      <th>Freebase character/actor map ID</th>\n",
       "      <th>Freebase character ID</th>\n",
       "      <th>Freebase actor ID</th>\n",
       "    </tr>\n",
       "  </thead>\n",
       "  <tbody>\n",
       "    <tr>\n",
       "      <th>0</th>\n",
       "      <td>975900</td>\n",
       "      <td>/m/03vyhn</td>\n",
       "      <td>2001-08-24</td>\n",
       "      <td>Akooshay</td>\n",
       "      <td>1958-08-26</td>\n",
       "      <td>F</td>\n",
       "      <td>1.620</td>\n",
       "      <td>NaN</td>\n",
       "      <td>Wanda De Jesus</td>\n",
       "      <td>42.0</td>\n",
       "      <td>/m/0bgchxw</td>\n",
       "      <td>/m/0bgcj3x</td>\n",
       "      <td>/m/03wcfv7</td>\n",
       "    </tr>\n",
       "    <tr>\n",
       "      <th>1</th>\n",
       "      <td>975900</td>\n",
       "      <td>/m/03vyhn</td>\n",
       "      <td>2001-08-24</td>\n",
       "      <td>Lieutenant Melanie Ballard</td>\n",
       "      <td>1974-08-15</td>\n",
       "      <td>F</td>\n",
       "      <td>1.780</td>\n",
       "      <td>/m/044038p</td>\n",
       "      <td>Natasha Henstridge</td>\n",
       "      <td>27.0</td>\n",
       "      <td>/m/0jys3m</td>\n",
       "      <td>/m/0bgchn4</td>\n",
       "      <td>/m/0346l4</td>\n",
       "    </tr>\n",
       "    <tr>\n",
       "      <th>2</th>\n",
       "      <td>975900</td>\n",
       "      <td>/m/03vyhn</td>\n",
       "      <td>2001-08-24</td>\n",
       "      <td>Desolation Williams</td>\n",
       "      <td>1969-06-15</td>\n",
       "      <td>M</td>\n",
       "      <td>1.727</td>\n",
       "      <td>/m/0x67</td>\n",
       "      <td>Ice Cube</td>\n",
       "      <td>32.0</td>\n",
       "      <td>/m/0jys3g</td>\n",
       "      <td>/m/0bgchn_</td>\n",
       "      <td>/m/01vw26l</td>\n",
       "    </tr>\n",
       "    <tr>\n",
       "      <th>3</th>\n",
       "      <td>975900</td>\n",
       "      <td>/m/03vyhn</td>\n",
       "      <td>2001-08-24</td>\n",
       "      <td>Sgt Jericho Butler</td>\n",
       "      <td>1967-09-12</td>\n",
       "      <td>M</td>\n",
       "      <td>1.750</td>\n",
       "      <td>NaN</td>\n",
       "      <td>Jason Statham</td>\n",
       "      <td>33.0</td>\n",
       "      <td>/m/02vchl6</td>\n",
       "      <td>/m/0bgchnq</td>\n",
       "      <td>/m/034hyc</td>\n",
       "    </tr>\n",
       "    <tr>\n",
       "      <th>4</th>\n",
       "      <td>975900</td>\n",
       "      <td>/m/03vyhn</td>\n",
       "      <td>2001-08-24</td>\n",
       "      <td>Bashira Kincaid</td>\n",
       "      <td>1977-09-25</td>\n",
       "      <td>F</td>\n",
       "      <td>1.650</td>\n",
       "      <td>NaN</td>\n",
       "      <td>Clea DuVall</td>\n",
       "      <td>23.0</td>\n",
       "      <td>/m/02vbb3r</td>\n",
       "      <td>/m/0bgchp9</td>\n",
       "      <td>/m/01y9xg</td>\n",
       "    </tr>\n",
       "  </tbody>\n",
       "</table>\n",
       "</div>"
      ],
      "text/plain": [
       "   Wikipedia movie ID Freebase movie ID Movie release date  \\\n",
       "0              975900         /m/03vyhn         2001-08-24   \n",
       "1              975900         /m/03vyhn         2001-08-24   \n",
       "2              975900         /m/03vyhn         2001-08-24   \n",
       "3              975900         /m/03vyhn         2001-08-24   \n",
       "4              975900         /m/03vyhn         2001-08-24   \n",
       "\n",
       "               Character name Actor date of birth Actor gender  \\\n",
       "0                    Akooshay          1958-08-26            F   \n",
       "1  Lieutenant Melanie Ballard          1974-08-15            F   \n",
       "2         Desolation Williams          1969-06-15            M   \n",
       "3          Sgt Jericho Butler          1967-09-12            M   \n",
       "4             Bashira Kincaid          1977-09-25            F   \n",
       "\n",
       "   Actor height(in meters) Actor ethnicity(Freebase ID)          Actor name  \\\n",
       "0                    1.620                          NaN      Wanda De Jesus   \n",
       "1                    1.780                   /m/044038p  Natasha Henstridge   \n",
       "2                    1.727                      /m/0x67            Ice Cube   \n",
       "3                    1.750                          NaN       Jason Statham   \n",
       "4                    1.650                          NaN         Clea DuVall   \n",
       "\n",
       "   Actor age at movie release Freebase character/actor map ID  \\\n",
       "0                        42.0                      /m/0bgchxw   \n",
       "1                        27.0                       /m/0jys3m   \n",
       "2                        32.0                       /m/0jys3g   \n",
       "3                        33.0                      /m/02vchl6   \n",
       "4                        23.0                      /m/02vbb3r   \n",
       "\n",
       "  Freebase character ID Freebase actor ID  \n",
       "0            /m/0bgcj3x        /m/03wcfv7  \n",
       "1            /m/0bgchn4         /m/0346l4  \n",
       "2            /m/0bgchn_        /m/01vw26l  \n",
       "3            /m/0bgchnq         /m/034hyc  \n",
       "4            /m/0bgchp9         /m/01y9xg  "
      ]
     },
     "execution_count": 37,
     "metadata": {},
     "output_type": "execute_result"
    }
   ],
   "source": [
    "import pandas as pd\n",
    "\n",
    "data_path = \"./MovieSummaries/\"\n",
    "character_path = data_path + \"character.metadata.tsv\"\n",
    "\n",
    "df_character = pd.read_csv(character_path, sep=\"\\t\", header=None)\n",
    "df_character.columns = [\n",
    "    'Wikipedia movie ID', \n",
    "    'Freebase movie ID', \n",
    "    'Movie release date',\n",
    "    'Character name',\n",
    "    'Actor date of birth', \n",
    "    'Actor gender', \n",
    "    'Actor height(in meters)', \n",
    "    'Actor ethnicity(Freebase ID)', \n",
    "    'Actor name', \n",
    "    'Actor age at movie release',\n",
    "    'Freebase character/actor map ID',\n",
    "    'Freebase character ID',\n",
    "    'Freebase actor ID'\n",
    "]\n",
    "print(df_character.shape)\n",
    "df_character.head()"
   ]
  },
  {
   "cell_type": "markdown",
   "metadata": {},
   "source": [
    "### Genres of movies for each actor"
   ]
  },
  {
   "cell_type": "code",
   "execution_count": 69,
   "metadata": {},
   "outputs": [
    {
     "name": "stdout",
     "output_type": "stream",
     "text": [
      "10 most productive actors:\n",
      " - Actor 'Mel Blanc' makes 791 movies. \n",
      " - Actor 'Mithun Chakraborty' makes 328 movies. \n",
      " - Actor 'Oliver Hardy' makes 299 movies. \n",
      " - Actor 'Mohanlal' makes 234 movies. \n",
      " - Actor 'Moe Howard' makes 225 movies. \n",
      " - Actor 'Mammootty' makes 225 movies. \n",
      " - Actor 'Dharmendra Deol' makes 219 movies. \n",
      " - Actor 'Larry Fine' makes 219 movies. \n",
      " - Actor 'Amitabh Bachchan' makes 206 movies. \n",
      " - Actor 'Prakash Raj' makes 205 movies. \n"
     ]
    }
   ],
   "source": [
    "num_movie_per_actor = df_character.groupby([\"Actor name\"])[\"Actor name\"].count().sort_values(ascending=False)\n",
    "\n",
    "num_actors = 10\n",
    "\n",
    "actors = num_movie_per_actor.index[:num_actors]\n",
    "num_movies = num_movie_per_actor.values[:num_actors]\n",
    "print(\"{} most productive actors:\".format(num_actors))\n",
    "for actor, num in zip(actors, num_movies):\n",
    "    print(\" - Actor '{}' makes {} movies. \".format(actor, num))"
   ]
  },
  {
   "cell_type": "code",
   "execution_count": 93,
   "metadata": {},
   "outputs": [
    {
     "name": "stdout",
     "output_type": "stream",
     "text": [
      "Actor Mel Blanc            performed  640/791  movies of genre 'Short Film'. \n",
      "Actor Mithun Chakraborty   performed  171/328  movies of genre 'Action'. \n",
      "Actor Oliver Hardy         performed  282/299  movies of genre 'Black-and-white'. \n",
      "Actor Mohanlal             performed  148/234  movies of genre 'Drama'. \n",
      "Actor Moe Howard           performed  206/225  movies of genre 'Comedy'. \n",
      "Actor Mammootty            performed  147/225  movies of genre 'Drama'. \n",
      "Actor Dharmendra Deol      performed  104/219  movies of genre 'Drama'. \n",
      "Actor Larry Fine           performed  204/219  movies of genre 'Comedy'. \n",
      "Actor Amitabh Bachchan     performed  126/206  movies of genre 'World cinema'. \n",
      "Actor Prakash Raj          performed  115/205  movies of genre 'Drama'. \n"
     ]
    }
   ],
   "source": [
    "# genre of movies performed by these actors\n",
    "\n",
    "for actor,tot_num in zip(actors,num_movies):\n",
    "    genre_count = Counter()\n",
    "    for index, row in df_character[df_character[\"Actor name\"] == actor].iterrows():\n",
    "        for genre in movie2genre[row[\"Freebase movie ID\"]]:\n",
    "            genre_count[genre] += 1\n",
    "    genre, cnt = genre_count.most_common(1)[0]\n",
    "    print(\"Actor {:20s} performed  {}/{}  movies of genre '{}'. \".format(actor, cnt, tot_num, genre))"
   ]
  },
  {
   "cell_type": "code",
   "execution_count": null,
   "metadata": {},
   "outputs": [],
   "source": []
  },
  {
   "cell_type": "markdown",
   "metadata": {},
   "source": [
    "## TV Tropes Clusters\n",
    "\n",
    "The number of actors in this datasets is only 350 while the total number of actors in `df_character` is 134079. "
   ]
  },
  {
   "cell_type": "code",
   "execution_count": 13,
   "metadata": {},
   "outputs": [],
   "source": [
    "import pandas as pd\n",
    "\n",
    "data_path = \"./MovieSummaries/\"\n",
    "char_cluster_path = data_path + \"tvtropes.clusters.txt\""
   ]
  },
  {
   "cell_type": "code",
   "execution_count": 108,
   "metadata": {},
   "outputs": [
    {
     "name": "stdout",
     "output_type": "stream",
     "text": [
      "(501, 5)\n"
     ]
    },
    {
     "data": {
      "text/html": [
       "<div>\n",
       "<style scoped>\n",
       "    .dataframe tbody tr th:only-of-type {\n",
       "        vertical-align: middle;\n",
       "    }\n",
       "\n",
       "    .dataframe tbody tr th {\n",
       "        vertical-align: top;\n",
       "    }\n",
       "\n",
       "    .dataframe thead th {\n",
       "        text-align: right;\n",
       "    }\n",
       "</style>\n",
       "<table border=\"1\" class=\"dataframe\">\n",
       "  <thead>\n",
       "    <tr style=\"text-align: right;\">\n",
       "      <th></th>\n",
       "      <th>type</th>\n",
       "      <th>Char</th>\n",
       "      <th>Movie</th>\n",
       "      <th>Id</th>\n",
       "      <th>Actor</th>\n",
       "    </tr>\n",
       "  </thead>\n",
       "  <tbody>\n",
       "    <tr>\n",
       "      <th>0</th>\n",
       "      <td>absent_minded_professor</td>\n",
       "      <td>Professor Philip Brainard</td>\n",
       "      <td>Flubber</td>\n",
       "      <td>/m/0jy9q0</td>\n",
       "      <td>Robin Williams</td>\n",
       "    </tr>\n",
       "    <tr>\n",
       "      <th>1</th>\n",
       "      <td>absent_minded_professor</td>\n",
       "      <td>Professor Keenbean</td>\n",
       "      <td>Richie Rich</td>\n",
       "      <td>/m/02vchl3</td>\n",
       "      <td>Michael McShane</td>\n",
       "    </tr>\n",
       "    <tr>\n",
       "      <th>2</th>\n",
       "      <td>absent_minded_professor</td>\n",
       "      <td>Dr. Reinhardt Lane</td>\n",
       "      <td>The Shadow</td>\n",
       "      <td>/m/0k6fkc</td>\n",
       "      <td>Ian McKellen</td>\n",
       "    </tr>\n",
       "    <tr>\n",
       "      <th>3</th>\n",
       "      <td>absent_minded_professor</td>\n",
       "      <td>Dr. Harold Medford</td>\n",
       "      <td>Them!</td>\n",
       "      <td>/m/0k6_br</td>\n",
       "      <td>Edmund Gwenn</td>\n",
       "    </tr>\n",
       "    <tr>\n",
       "      <th>4</th>\n",
       "      <td>absent_minded_professor</td>\n",
       "      <td>Daniel Jackson</td>\n",
       "      <td>Stargate</td>\n",
       "      <td>/m/0k3rhh</td>\n",
       "      <td>James Spader</td>\n",
       "    </tr>\n",
       "  </tbody>\n",
       "</table>\n",
       "</div>"
      ],
      "text/plain": [
       "                      type                       Char        Movie  \\\n",
       "0  absent_minded_professor  Professor Philip Brainard      Flubber   \n",
       "1  absent_minded_professor         Professor Keenbean  Richie Rich   \n",
       "2  absent_minded_professor         Dr. Reinhardt Lane   The Shadow   \n",
       "3  absent_minded_professor         Dr. Harold Medford        Them!   \n",
       "4  absent_minded_professor             Daniel Jackson     Stargate   \n",
       "\n",
       "           Id            Actor  \n",
       "0   /m/0jy9q0   Robin Williams  \n",
       "1  /m/02vchl3  Michael McShane  \n",
       "2   /m/0k6fkc     Ian McKellen  \n",
       "3   /m/0k6_br     Edmund Gwenn  \n",
       "4   /m/0k3rhh     James Spader  "
      ]
     },
     "execution_count": 108,
     "metadata": {},
     "output_type": "execute_result"
    }
   ],
   "source": [
    "import json\n",
    "\n",
    "def read_tvtropes(char_cluster_path):\n",
    "    df = pd.read_csv(char_cluster_path, sep='\\t', header=None)\n",
    "    df.columns = ['type', 'raw info']\n",
    "    # extract information from \"Rzw Info\"\n",
    "    for i in range(len(df)):\n",
    "        char_info = json.loads(df.loc[i, 'raw info'])\n",
    "        for name,val in char_info.items():\n",
    "            df.loc[i, name.title()] = val\n",
    "    df.drop('raw info', axis=1, inplace=True)\n",
    "    return df\n",
    "\n",
    "df_chartype = read_tvtropes(char_cluster_path)\n",
    "print(df_chartype.shape)\n",
    "df_chartype.head()"
   ]
  },
  {
   "cell_type": "code",
   "execution_count": 109,
   "metadata": {},
   "outputs": [
    {
     "name": "stdout",
     "output_type": "stream",
     "text": [
      "350 \tactors in df_chartype\n",
      "134079 \tactors in df_character\n",
      "350 \tactors in common\n"
     ]
    }
   ],
   "source": [
    "num_actor_chartype = len(df_chartype[\"Actor\"].unique())\n",
    "num_actor_character = len(df_character[\"Actor name\"].unique())\n",
    "num_actor_common = len(set(df_chartype[\"Actor\"].values) & set(df_character[\"Actor name\"]))\n",
    "\n",
    "print(\"{} \\tactors in df_chartype\".format(num_actor_chartype))\n",
    "print(\"{} \\tactors in df_character\".format(num_actor_character))\n",
    "print(\"{} \\tactors in common\".format(num_actor_common))"
   ]
  },
  {
   "cell_type": "code",
   "execution_count": 110,
   "metadata": {},
   "outputs": [
    {
     "data": {
      "text/plain": [
       "Robert De Niro    9\n",
       "Johnny Depp       8\n",
       "Harrison Ford     8\n",
       "Clint Eastwood    7\n",
       "Daniel Craig      5\n",
       "                 ..\n",
       "Richard Gere      1\n",
       "Larry Miller      1\n",
       "Norman Lloyd      1\n",
       "Jeffrey Jones     1\n",
       "Kevin Costner     1\n",
       "Name: Actor, Length: 350, dtype: int64"
      ]
     },
     "execution_count": 110,
     "metadata": {},
     "output_type": "execute_result"
    }
   ],
   "source": [
    "df_chartype[\"Actor\"].value_counts()"
   ]
  },
  {
   "cell_type": "code",
   "execution_count": 139,
   "metadata": {},
   "outputs": [
    {
     "ename": "AttributeError",
     "evalue": "'numpy.ndarray' object has no attribute 'apply'",
     "output_type": "error",
     "traceback": [
      "\u001b[1;31m---------------------------------------------------------------------------\u001b[0m",
      "\u001b[1;31mAttributeError\u001b[0m                            Traceback (most recent call last)",
      "\u001b[1;32md:\\epfl\\ada-cs401\\ada-2022-project-datakungfu\\abc.ipynb Cellule 19\u001b[0m in \u001b[0;36m<cell line: 4>\u001b[1;34m()\u001b[0m\n\u001b[0;32m      <a href='vscode-notebook-cell:/d%3A/epfl/ada-cs401/ada-2022-project-datakungfu/abc.ipynb#X32sZmlsZQ%3D%3D?line=0'>1</a>\u001b[0m \u001b[39m# results = df_chartype.join(df_character, on=\"Actor\")\u001b[39;00m\n\u001b[0;32m      <a href='vscode-notebook-cell:/d%3A/epfl/ada-cs401/ada-2022-project-datakungfu/abc.ipynb#X32sZmlsZQ%3D%3D?line=1'>2</a>\u001b[0m \u001b[39m# results = pd.merge(df_chartype[[\"Actor\"]], df_character[[\"Actor name\"]].groupby(\"Actor name\").count(), how='left', left_on=['Actor'], right_on=['Actor name'])\u001b[39;00m\n\u001b[0;32m      <a href='vscode-notebook-cell:/d%3A/epfl/ada-cs401/ada-2022-project-datakungfu/abc.ipynb#X32sZmlsZQ%3D%3D?line=2'>3</a>\u001b[0m results \u001b[39m=\u001b[39m df_chartype[\u001b[39m\"\u001b[39m\u001b[39mActor\u001b[39m\u001b[39m\"\u001b[39m]\u001b[39m.\u001b[39munique()\u001b[39m.\u001b[39mcopy()\n\u001b[1;32m----> <a href='vscode-notebook-cell:/d%3A/epfl/ada-cs401/ada-2022-project-datakungfu/abc.ipynb#X32sZmlsZQ%3D%3D?line=3'>4</a>\u001b[0m results[\u001b[39m\"\u001b[39m\u001b[39mmovie count\u001b[39m\u001b[39m\"\u001b[39m] \u001b[39m=\u001b[39m df_chartype[\u001b[39m\"\u001b[39;49m\u001b[39mActor\u001b[39;49m\u001b[39m\"\u001b[39;49m]\u001b[39m.\u001b[39;49munique()\u001b[39m.\u001b[39;49mapply(df_character[\u001b[39m\"\u001b[39m\u001b[39mActor name\u001b[39m\u001b[39m\"\u001b[39m]\u001b[39m.\u001b[39mvalue_counts()\u001b[39m.\u001b[39mto_dict())\n\u001b[0;32m      <a href='vscode-notebook-cell:/d%3A/epfl/ada-cs401/ada-2022-project-datakungfu/abc.ipynb#X32sZmlsZQ%3D%3D?line=4'>5</a>\u001b[0m results\u001b[39m.\u001b[39msort_values(\u001b[39m\"\u001b[39m\u001b[39mmovie count\u001b[39m\u001b[39m\"\u001b[39m)\u001b[39m.\u001b[39mhead()\n",
      "\u001b[1;31mAttributeError\u001b[0m: 'numpy.ndarray' object has no attribute 'apply'"
     ]
    }
   ],
   "source": [
    "# results = df_chartype.join(df_character, on=\"Actor\")\n",
    "# results = pd.merge(df_chartype[[\"Actor\"]], df_character[[\"Actor name\"]].groupby(\"Actor name\").count(), how='left', left_on=['Actor'], right_on=['Actor name'])\n",
    "results = df_chartype[\"Actor\"].copy()\n",
    "results[\"movie count\"] = df_chartype[\"Actor\"].replace(df_character[\"Actor name\"].value_counts().to_dict())\n",
    "results.sort_values(\"movie count\").head()"
   ]
  },
  {
   "cell_type": "code",
   "execution_count": 137,
   "metadata": {},
   "outputs": [
    {
     "data": {
      "text/html": [
       "<div>\n",
       "<style scoped>\n",
       "    .dataframe tbody tr th:only-of-type {\n",
       "        vertical-align: middle;\n",
       "    }\n",
       "\n",
       "    .dataframe tbody tr th {\n",
       "        vertical-align: top;\n",
       "    }\n",
       "\n",
       "    .dataframe thead th {\n",
       "        text-align: right;\n",
       "    }\n",
       "</style>\n",
       "<table border=\"1\" class=\"dataframe\">\n",
       "  <thead>\n",
       "    <tr style=\"text-align: right;\">\n",
       "      <th></th>\n",
       "      <th>Actor</th>\n",
       "      <th>movie count</th>\n",
       "    </tr>\n",
       "  </thead>\n",
       "  <tbody>\n",
       "    <tr>\n",
       "      <th>248</th>\n",
       "      <td>Naseeruddin Shah</td>\n",
       "      <td>112</td>\n",
       "    </tr>\n",
       "    <tr>\n",
       "      <th>277</th>\n",
       "      <td>Michael Caine</td>\n",
       "      <td>121</td>\n",
       "    </tr>\n",
       "    <tr>\n",
       "      <th>447</th>\n",
       "      <td>Michael Caine</td>\n",
       "      <td>121</td>\n",
       "    </tr>\n",
       "    <tr>\n",
       "      <th>398</th>\n",
       "      <td>Christopher Lee</td>\n",
       "      <td>152</td>\n",
       "    </tr>\n",
       "    <tr>\n",
       "      <th>243</th>\n",
       "      <td>John Wayne</td>\n",
       "      <td>178</td>\n",
       "    </tr>\n",
       "  </tbody>\n",
       "</table>\n",
       "</div>"
      ],
      "text/plain": [
       "                Actor  movie count\n",
       "248  Naseeruddin Shah          112\n",
       "277     Michael Caine          121\n",
       "447     Michael Caine          121\n",
       "398   Christopher Lee          152\n",
       "243        John Wayne          178"
      ]
     },
     "execution_count": 137,
     "metadata": {},
     "output_type": "execute_result"
    }
   ],
   "source": [
    "results.sort_values(\"movie count\").tail()"
   ]
  },
  {
   "cell_type": "code",
   "execution_count": 136,
   "metadata": {},
   "outputs": [
    {
     "data": {
      "text/plain": [
       "<AxesSubplot:title={'center':'number of movies produced per actor, in df_chartype'}, ylabel='Frequency'>"
      ]
     },
     "execution_count": 136,
     "metadata": {},
     "output_type": "execute_result"
    },
    {
     "data": {
      "image/png": "[encoded data removed]",
      "text/plain": [
       "<Figure size 640x480 with 1 Axes>"
      ]
     },
     "metadata": {},
     "output_type": "display_data"
    }
   ],
   "source": [
    "results.sort_values(\"movie count\").plot(kind=\"hist\", title=\"number of movies produced per actor, in df_chartype\")"
   ]
  },
  {
   "cell_type": "code",
   "execution_count": 126,
   "metadata": {},
   "outputs": [
    {
     "data": {
      "text/html": [
       "<div>\n",
       "<style scoped>\n",
       "    .dataframe tbody tr th:only-of-type {\n",
       "        vertical-align: middle;\n",
       "    }\n",
       "\n",
       "    .dataframe tbody tr th {\n",
       "        vertical-align: top;\n",
       "    }\n",
       "\n",
       "    .dataframe thead th {\n",
       "        text-align: right;\n",
       "    }\n",
       "</style>\n",
       "<table border=\"1\" class=\"dataframe\">\n",
       "  <thead>\n",
       "    <tr style=\"text-align: right;\">\n",
       "      <th></th>\n",
       "    </tr>\n",
       "    <tr>\n",
       "      <th>Actor name</th>\n",
       "    </tr>\n",
       "  </thead>\n",
       "  <tbody>\n",
       "    <tr>\n",
       "      <th>Cesarine Prinz\\t</th>\n",
       "    </tr>\n",
       "    <tr>\n",
       "      <th>Daniel Newman</th>\n",
       "    </tr>\n",
       "    <tr>\n",
       "      <th>'Big Bill' Giddinger</th>\n",
       "    </tr>\n",
       "    <tr>\n",
       "      <th>'Big' Lee</th>\n",
       "    </tr>\n",
       "    <tr>\n",
       "      <th>'Chicken' Holleman</th>\n",
       "    </tr>\n",
       "    <tr>\n",
       "      <th>...</th>\n",
       "    </tr>\n",
       "    <tr>\n",
       "      <th>雅-miyavi-</th>\n",
       "    </tr>\n",
       "    <tr>\n",
       "      <th>雪乃五月</th>\n",
       "    </tr>\n",
       "    <tr>\n",
       "      <th>高山久子</th>\n",
       "    </tr>\n",
       "    <tr>\n",
       "      <th>高橋美紀</th>\n",
       "    </tr>\n",
       "    <tr>\n",
       "      <th>高田由美</th>\n",
       "    </tr>\n",
       "  </tbody>\n",
       "</table>\n",
       "<p>134078 rows × 0 columns</p>\n",
       "</div>"
      ],
      "text/plain": [
       "Empty DataFrame\n",
       "Columns: []\n",
       "Index: [ Cesarine Prinz\\t,  Daniel Newman, 'Big Bill' Giddinger, 'Big' Lee, 'Chicken' Holleman, 'Crazy George' Henderson, 'Evil' Ted Smith, 'Kecske' Molnár Levente, 'King Kong' Kashey, 'Little Billy' Rhodes, 'Monsewer' Eddie Gray, 'Pepsi' Vijayan, 'Speedy' Wilson, 'Squeeks' the Caterpillar, 2 Tuff Tony, 40 Glocc, 50 Cent, 9 Million Sam, A Martinez, A-Saku Yoshida, A. Andriyenko-Zemskov, A. Arnold, A. B. Imeson, A. Babayev, A. Barrett Worland, A. Blaine Miller, A. Blokh, A. Bromley Davenport, A. Bukhvalov, A. Bykov, A. C. Lyles, A. Cameron Grant, A. Chistik, A. Delon Ellis Jr., A. Dmitriyeva, A. E. Matthews, A. Edward Sutherland, A. Frank Ruffo, A. Galak, A. Gest, A. Gholanzadeh, A. Glauberman, A. Golitsyn, A. Gregory, A. Harding Steerman, A. Hunanyan, A. J. Benza, A. J. Bowen, A. J. Buckley, A. J. Cook, A. J. Langer, A. Jay Radcliff, A. Kanayeva, A. Katt Masterson, A. Kraus, A. Krevalid, A. Krivicky, A. Longari, A. Mansvetov, A. Michael Baldwin, A. Olennikov, A. Panneeirchelvam, A. Petukhova, A. Podorojny, A. Puntus, A. Risetto, A. Russell Andrews, A. Shahverdyan, A. Smirnov, A. Soboleva, A. Teremizova, A. Tolbuzin, A. V. M. Rajan, A. Venkatesh, A. Yeliseyev, A. Yermakov, A. Yermolayev, A. Yevdakov, A. Zahn, A. Zubov, A. Zvenigorsky, A.C. Carvalho, A.C. Doyle, A.C. Tony Smith, A.C. Weary, A.D. Blake, A.D. Detrick, A.D. Miles, A.E. Witting, A.J. Balance, A.J. Clarke, A.J. Damato, A.J. Henderson, A.J. Jerrick, A.J. Lamas, A.J. Patrick, A.J. Saudin, A.J. Stephans, A.J. Tannen, A.J. Trauth, ...]\n",
       "\n",
       "[134078 rows x 0 columns]"
      ]
     },
     "execution_count": 126,
     "metadata": {},
     "output_type": "execute_result"
    }
   ],
   "source": [
    "df_character[[\"Actor name\"]].groupby(\"Actor name\").count()"
   ]
  },
  {
   "cell_type": "code",
   "execution_count": null,
   "metadata": {},
   "outputs": [],
   "source": []
  }
 ],
 "metadata": {
  "kernelspec": {
   "display_name": "Python 3.10.6 ('ada-cs401')",
   "language": "python",
   "name": "python3"
  },
  "language_info": {
   "codemirror_mode": {
    "name": "ipython",
    "version": 3
   },
   "file_extension": ".py",
   "mimetype": "text/x-python",
   "name": "python",
   "nbconvert_exporter": "python",
   "pygments_lexer": "ipython3",
   "version": "3.10.6"
  },
  "orig_nbformat": 4,
  "vscode": {
   "interpreter": {
    "hash": "61e098c29f0bc10ba956ef5093908b7603baea68b709515c2bbdb19bccd9064f"
   }
  }
 },
 "nbformat": 4,
 "nbformat_minor": 2
}
